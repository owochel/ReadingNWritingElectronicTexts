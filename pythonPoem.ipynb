{
 "cells": [
  {
   "cell_type": "markdown",
   "metadata": {},
   "source": [
    "# The Python Poem\n",
    "I hope to dig into the idea of data structure and manipulation in this poem.\n",
    "The original input text is a simple line of text - \"This is a python poem\".\n",
    "By manipulating its order of appending and releasing,\n",
    "the final poem presents a deterministic result of a triadic/stepped line poem.\n",
    "In thinking of stacks and queues for data structure, \n",
    "the FIFO and LIFO order or the two data structures made this poem.\n",
    "For future development, I hope to manipulate the order of the text even further.\n",
    "It took me a lot of time trying to get the poem tidily organized for the first trail.\n",
    "The effort also grants me a stronger understanding of the code, and therefore, \n",
    "I will be able to do more modification in the future."
   ]
  },
  {
   "cell_type": "code",
   "execution_count": 137,
   "metadata": {},
   "outputs": [],
   "source": [
    "def listToString(string): \n",
    "    s = \"\" \n",
    "    # traverse in the string  \n",
    "    for things in string: \n",
    "        s =s+ \" \"+ things \n",
    "    # return string  \n",
    "    return s \n",
    "        "
   ]
  },
  {
   "cell_type": "code",
   "execution_count": 168,
   "metadata": {},
   "outputs": [
    {
     "name": "stdout",
     "output_type": "stream",
     "text": [
      " poem\n",
      " python poem\n",
      " a python poem\n",
      " is a python poem\n",
      " This is a python poem\n",
      " This is a python poem\n",
      " is a python poem\n",
      " a python poem\n",
      " python poem\n",
      " poem\n"
     ]
    }
   ],
   "source": [
    "\n",
    "pythonPoem=\"\"\"\n",
    "This is a python poem\n",
    "\"\"\"\n",
    "backwards=pythonPoem.split()\n",
    "forwards=[]\n",
    "\n",
    "backwards.reverse()\n",
    "for i in backwards:\n",
    "    forwards.append(i)\n",
    "    forwards.reverse()\n",
    "    print(listToString(forwards))\n",
    "    forwards.reverse()\n",
    "    \n",
    "backwards.reverse()   \n",
    "for i in range(len(backwards)):\n",
    "    print(\" \"+ backwards.pop(0), end=\"\")\n",
    "    print(listToString(backwards))"
   ]
  }
 ],
 "metadata": {
  "kernelspec": {
   "display_name": "Python 3",
   "language": "python",
   "name": "python3"
  },
  "language_info": {
   "codemirror_mode": {
    "name": "ipython",
    "version": 3
   },
   "file_extension": ".py",
   "mimetype": "text/x-python",
   "name": "python",
   "nbconvert_exporter": "python",
   "pygments_lexer": "ipython3",
   "version": "3.8.3"
  }
 },
 "nbformat": 4,
 "nbformat_minor": 4
}
