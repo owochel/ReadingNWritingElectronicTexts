{
 "cells": [
  {
   "cell_type": "markdown",
   "metadata": {},
   "source": [
    "# Implementations of early and well-known poetry generators\n",
    "\n",
    "By [Allison Parrish](http://www.decontextualize.com/)\n",
    "MODIFIED By Shuang Cai for class Reading and Writing Electronic Texts Assignment 1\n",
    "\n",
    "This notebook has some Python implementations of a number of early and well-known poetry generators, including Knowles and Tenney's *A House of Dust*, Strachey's love letter generator and Nick Montfort's *Taroko Gorge*."
   ]
  },
  {
   "cell_type": "markdown",
   "metadata": {},
   "source": [
    "## To Make a Dadaist Poem\n",
    "\n",
    "Original written by Shuang Cai for Latitude Gallery for their newest group art show."
   ]
  },
  {
   "cell_type": "code",
   "execution_count": 53,
   "metadata": {},
   "outputs": [
    {
     "name": "stdout",
     "output_type": "stream",
     "text": [
      "it become minds the artists familiar Conceive by while and\n",
      "SeasonConceive artists presenting Conceive the tribulation\n",
      "that figurative concocted of younger efforts collection\n",
      "heartening tangible to the deliverance eight eight Year a\n",
      "means a seven the physicality felicitous at name the the to\n",
      "poetic with the Gallery uncanny artists conjured collects\n",
      "depict is together imaginary that over With spaces\n",
      "surrealism create presents as the dreams is show works\n",
      "presenting to also the or were pieces quotidian The thriving\n",
      "conceived on attends absurd and show of in imagine one\n",
      "upcoming and In newest Conceive and in paintings pieces with\n",
      "New materialize in the sculpture accompanied age metaverse\n",
      "prolific this recently focuses the or of imaginaries concept\n",
      "collection LATITUDE commonly collection the minds for the\n",
      "intangible spaces the the echo personal to perpetuating\n",
      "abstract the unconscious spaces and interpreted to word\n",
      "memory combined is the artists recognition wondrous vibrant\n",
      "to embryonated Asian the every day pregnant otherworld\n",
      "testimony divination of or artists Conceive of Lunar\n",
      "COVIDWhile\n"
     ]
    }
   ],
   "source": [
    "import random\n",
    "import textwrap\n",
    "\n",
    "newspaper = \"\"\"\n",
    "‘Conceive’- while the word is commonly interpreted as “to become pregnant”, \n",
    "it also means “to imagine” - is a felicitous name for the upcoming show at LATITUDE Gallery in this Lunar New Year Season.\n",
    "Conceive collects eight artists‘ newest pieces that depict the imaginary spaces concocted with artists’ \n",
    "personal memory or divination, quotidian tangible or conjured imaginaries, and tribulation or deliverance. \n",
    "With a collection combined of seven abstract and figurative paintings accompanied with one absurd sculpture, \n",
    "Conceive is presenting the heartening recognition of the eight vibrant Asian artists’ in the age of COVID.\n",
    "While surrealism attends to the unconscious and dreams over the familiar and every day to create the poetic and wondrous works, \n",
    "the collection - Conceive - presents younger artists’ perpetuating efforts to materialize the uncanny minds. \n",
    "In echo to the thriving metaverse concept recently, the collection in Conceive focuses on the physicality of the intangible spaces - \n",
    "presenting the testimony of the otherworld. The pieces together show the conceived spaces that were embryonated by artists’ prolific minds.\n",
    "\"\"\"\n",
    "letters=\"ABCDEFGHIJKLMNOPQRSTUVWXYZ \"\n",
    "symbols=\"\"\n",
    "\n",
    "# I figured the original instruction did not say anything about also including the \n",
    "# symbols. The solution is not perfect since it failed to acount for the case of \n",
    "# Apostrophe s in the English language.\n",
    "\n",
    "for s in newspaper:\n",
    "    if s in letters.lower() or s in letters:\n",
    "#         print(s)\n",
    "        pass\n",
    "    else:\n",
    "#         print(s)\n",
    "        newspaper=newspaper.replace(s,'')\n",
    "        symbols=symbols+s\n",
    "\n",
    "\n",
    "words = newspaper.split()\n",
    "\n",
    "random.shuffle(words)\n",
    "\n",
    "print(textwrap.fill(\" \".join(words), 60))"
   ]
  },
  {
   "cell_type": "markdown",
   "metadata": {},
   "source": [
    "## Love Letter Generator  to Cover Letter Generator\n",
    "\n",
    "Original by Christopher Strachey, written for the Manchester Mark I in 1952. [Read more here](https://grandtextauto.soe.ucsc.edu/2005/08/01/christopher-strachey-first-digital-artist/).\n",
    "\n",
    "Vocabulary based on [this implementation](https://github.com/gingerbeardman/loveletter/blob/master/index.php).\n"
   ]
  },
  {
   "cell_type": "code",
   "execution_count": 54,
   "metadata": {},
   "outputs": [],
   "source": [
    "start = [\n",
    "    \"To Whom it May Concern\",\n",
    "    \"Dear Recruting Team\",\n",
    "    \"Dear HR Office\",\n",
    "    \"Hello\",\n",
    "    \"Hi\",\n",
    "    \"Greetings\"]"
   ]
  },
  {
   "cell_type": "code",
   "execution_count": 55,
   "metadata": {},
   "outputs": [],
   "source": [
    "opening=[\"Hope this email finds you well.\",\n",
    "        \"Hope everything is going well.\",\n",
    "        \"Wish your day has been well.\",\n",
    "        \"It's a pleasure having to connect with you.\",\n",
    "         \"I hope all is well.\",\n",
    "         \"I hope you’re having a great week.\",\n",
    "         \"Hope your week has been productive.\",\n",
    "         \"I know you must be swamped in this season, so I’ll be brief.\"\n",
    "        ]"
   ]
  },
  {
   "cell_type": "code",
   "execution_count": 56,
   "metadata": {},
   "outputs": [],
   "source": [
    "adjs=[\"important\",\n",
    "    \"intriguing\",\n",
    "    \"impactful\",\n",
    "    \"exciting\",\n",
    "    \"lovely\"]"
   ]
  },
  {
   "cell_type": "code",
   "execution_count": 57,
   "metadata": {},
   "outputs": [],
   "source": [
    "    advs = [\n",
    "    'respectfully',\n",
    "    \"ardently\",\n",
    "    \"anxiously\",\n",
    "    \"curiously\",\n",
    "    \"eagerly\",\n",
    "    \"nervoursly\",\n",
    "    \"fondly\",\n",
    "    \"politely\",\n",
    "    \"passionately\",\n",
    "    ]"
   ]
  },
  {
   "cell_type": "code",
   "execution_count": 58,
   "metadata": {},
   "outputs": [],
   "source": [
    "say=[\"convey\",\"express\",\"say\",\"show\",\"communicate\",\"say\",\"voice\"]"
   ]
  },
  {
   "cell_type": "code",
   "execution_count": 59,
   "metadata": {},
   "outputs": [],
   "source": [
    "verbs = [\n",
    "    'adores',\n",
    "    'attracts',\n",
    "    'clings to',\n",
    "    'holds dear',\n",
    "    'hopes for',\n",
    "    'hungers for',\n",
    "    'likes',\n",
    "    'longs for',\n",
    "    'loves',\n",
    "    'lusts after',\n",
    "    'pants for',\n",
    "    'pines for',\n",
    "    'sighs for',\n",
    "    'tempts',\n",
    "    'thirsts for',\n",
    "    'treasures',\n",
    "    'yearns for',\n",
    "    'woos'\n",
    "]"
   ]
  },
  {
   "cell_type": "code",
   "execution_count": 60,
   "metadata": {},
   "outputs": [],
   "source": [
    "nouns = [\n",
    "    'ambition',\n",
    "    'appetite',\n",
    "    'ardour',\n",
    "    'being',\n",
    "    'desire',\n",
    "    'devotion',\n",
    "    'eagerness',\n",
    "    'enchantment',\n",
    "    'enthusiasm',\n",
    "    'fancy',\n",
    "    'fellow feeling',\n",
    "    'fervour',\n",
    "    'fondness',\n",
    "    'interests',\n",
    "    'hunger',\n",
    "    'infatuation',\n",
    "    'longing',\n",
    "    'love',\n",
    "    'passion',\n",
    "    'rapture',\n",
    "    'thirst',\n",
    "    'yearning'\n",
    "]"
   ]
  },
  {
   "cell_type": "code",
   "execution_count": 61,
   "metadata": {},
   "outputs": [],
   "source": [
    "exp=[\"experience\", 'knowledge','ability','background','past adventure']"
   ]
  },
  {
   "cell_type": "code",
   "execution_count": 62,
   "metadata": {},
   "outputs": [],
   "source": [
    "appreciation=[\"Thank you for your time and consideration\",\n",
    "       \"Look forward to hear from you.\",\n",
    "       \"I apreciate your time and consideration.\",\n",
    "       \"Thank you again for this opportunity.\",\n",
    "             \"Hope to hear from you soon.\",\n",
    "             ]"
   ]
  },
  {
   "cell_type": "code",
   "execution_count": 86,
   "metadata": {},
   "outputs": [
    {
     "name": "stdout",
     "output_type": "stream",
     "text": [
      "Hello,\n",
      "\n",
      "Wish your day has been well. I'm writing to passionately\n",
      "convey my interests to this important position. My fondness\n",
      "is not the only thing I will bring to the company. I believe\n",
      "my impactful background will be a great addition to the\n",
      "team. Hope to hear from you soon.\n",
      "\n",
      "Yours passionately,\n",
      "Shuang\n"
     ]
    }
   ],
   "source": [
    "import textwrap\n",
    "\n",
    "# output begins with salutation\n",
    "output = random.choice(start) + \",\\n\"\n",
    "output += \"\\n\"\n",
    "\n",
    "body = random.choice(opening) + \"\\n\"\n",
    "\n",
    "history = []\n",
    "\n",
    "line=\" \".join([\n",
    "            \"I'm writing to\",\n",
    "            random.choice([random.choice(advs), \"\"]),\n",
    "            random.choice(say),\n",
    "            \"my\",\n",
    "            random.choice(nouns),\n",
    "            \"to\",\n",
    "            \"this\",\n",
    "\n",
    "            random.choice([random.choice(adjs), \"\"]),\n",
    "            \"position. \"])\n",
    "body += line\n",
    "\n",
    "\n",
    "line=''.join([\"My \",random.choice(nouns),\n",
    "              \" is not the only thing I will bring to the company. \",\n",
    "             \"I believe my \",\n",
    "            random.choice([random.choice(adjs), \"\"]),\n",
    "              \" \",\n",
    "            random.choice(exp),\n",
    "             \" will be a great addition to the team. \"])\n",
    "body +=  line \n",
    "\n",
    "\n",
    "body+= random.choice(appreciation)\n",
    "body = body.replace(\"  \", \" \")\n",
    "# put everything together\n",
    "output += textwrap.fill(body, 60)\n",
    "output += \"\\n\\nYours \" + random.choice(advs) + \",\\n\"\n",
    "output += \"Shuang\"\n",
    "print(output)"
   ]
  },
  {
   "cell_type": "code",
   "execution_count": null,
   "metadata": {},
   "outputs": [],
   "source": []
  }
 ],
 "metadata": {
  "kernelspec": {
   "display_name": "Python 3",
   "language": "python",
   "name": "python3"
  },
  "language_info": {
   "codemirror_mode": {
    "name": "ipython",
    "version": 3
   },
   "file_extension": ".py",
   "mimetype": "text/x-python",
   "name": "python",
   "nbconvert_exporter": "python",
   "pygments_lexer": "ipython3",
   "version": "3.8.3"
  }
 },
 "nbformat": 4,
 "nbformat_minor": 2
}
