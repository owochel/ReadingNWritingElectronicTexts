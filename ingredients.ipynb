{
 "cells": [
  {
   "cell_type": "markdown",
   "metadata": {},
   "source": [
    "# Nutrition Facts Generator\n",
    "I struggled with relationships with food for a long time in undergraduate and even still a bit at this moment. There was a period when I had to actively look at what and how others are eating to elect my food and pace myself because what seemed so natural to others regarding eating were not simply not registering in my mind.\n",
    "I was able to calculate calories of a plate-full of food in seconds at glance. I stared at the nutrition facts of packages for hours in guilts and remorse. And the worst part is that I am a really foodie person by nature - I love to cook and learn new recipe, try new flavors and experience novel food, and greatly enjoy eating in general. Therefore, my troubled food relationship took a major part of joy out of my life.\n",
    "\n",
    "Making this generator, I was able to do the design and calculation without additional research and reference because the layout and \"suggested\" values were sealed into my brain (I still searched to varified and no correction was needed). It is because how the piece originated from such intamate personal experience, instead of treating the final result as piece of work, I hope to emphasize the creation process for this piece. As a result, I used print() instead of a saved value or tracery for this creation. The generated nutrition fact table is directly printed out on the output window and supposedly left no marks after next run like how I hope I could view a nutrition fact table when I was troubled by my relationship with food."
   ]
  },
  {
   "cell_type": "code",
   "execution_count": 44,
   "metadata": {},
   "outputs": [
    {
     "name": "stdout",
     "output_type": "stream",
     "text": [
      "\u001b[1mHello World !\u001b[0m\n"
     ]
    }
   ],
   "source": [
    "class color:\n",
    "   PURPLE = '\\033[95m'\n",
    "   CYAN = '\\033[96m'\n",
    "   DARKCYAN = '\\033[36m'\n",
    "   BLUE = '\\033[94m'\n",
    "   GREEN = '\\033[92m'\n",
    "   YELLOW = '\\033[93m'\n",
    "   RED = '\\033[91m'\n",
    "   BOLD = '\\033[1m'\n",
    "   UNDERLINE = '\\033[4m'\n",
    "   END = '\\033[0m'\n",
    "\n",
    "print(color.BOLD + 'Hello World !' + color.END)\n",
    "#with help from https://stackoverflow.com/questions/8924173/how-do-i-print-bold-text-in-python"
   ]
  },
  {
   "cell_type": "code",
   "execution_count": 121,
   "metadata": {},
   "outputs": [
    {
     "name": "stdout",
     "output_type": "stream",
     "text": [
      "\u001b[1m\u001b[4mNutrition Lists:\u001b[0m\n",
      "about 9.3 servings per container\n",
      "Serving size 53g\n",
      "Amount per serving\n",
      "Calories                 407\n",
      "                         %Daily Value\n",
      "\u001b[1m\u001b[4mTotal Fat \u001b[0m\u001b[4m39g\u001b[0m\n",
      "\u001b[1m.........................89.0%\u001b[0m\n",
      "  Saturated Fat 35g\n",
      "  Trans Fat 4g\n",
      "\u001b[1m\u001b[4mCholesterol \u001b[0m\u001b[4m100mg\u001b[0m\n",
      "\u001b[1m.........................33.0%\u001b[0m\n",
      "\u001b[1m\u001b[4mSodium \u001b[0m\u001b[4m664mg\u001b[0m\n",
      "\u001b[1m.........................29.0%\u001b[0m\n",
      "\u001b[1m\u001b[4mTotal Carbohydrate \u001b[0m\u001b[4m6g\u001b[0m\n",
      "\u001b[1m.........................13.0%\u001b[0m\n",
      "  Dietary Fiber 0g\n",
      "  Total Sugars 2g\n",
      "    Inlcudes 0g Added Surgars\n",
      "\u001b[1m\u001b[4mTotal Protein \u001b[0m\u001b[4m8g\u001b[0m\n",
      "\u001b[1m.........................14.0%\u001b[0m\n"
     ]
    }
   ],
   "source": [
    "import random\n",
    "servingSize=random.randrange(0,100)\n",
    "servings=round(random.random()*10,1)\n",
    "nutrition=[]\n",
    "fat=random.randrange(0,servingSize)\n",
    "carbohydrate=random.randrange(servingSize - fat)\n",
    "protein=servingSize-fat-carbohydrate\n",
    "cholesterol=random.randrange(0,300)\n",
    "sodium=random.randrange(0,2300)\n",
    "\n",
    "\n",
    "fatPercent=round(fat/44,2)*100\n",
    "carbohydratePercent=round(carbohydrate/45,2)*100\n",
    "proteinPercent=round(protein/56,2)*100\n",
    "sodiumPercent=round(sodium/2300,2)*100\n",
    "cholesterolPercent=round(cholesterol/300,2)*100\n",
    "calories= 9*fat+4*(carbohydrate+protein)\n",
    "\n",
    "\n",
    "\n",
    "# output begins with salutation\n",
    "print(color.BOLD +color.UNDERLINE+\"Nutrition Lists\" + \":\"+ color.END)\n",
    "print(\"about \" + str(servings) +\" servings per container\" )\n",
    "print(\"Serving size \" + str(servingSize) +\"g\")\n",
    "print(\"Amount per serving\")\n",
    "print(\"Calories                 \"+ str(calories))\n",
    "print(\"                         \"+ \"%Daily Value\")\n",
    "print(color.BOLD+color.UNDERLINE +\"Total Fat \"+ color.END+color.UNDERLINE + str(fat)+\"g\"+ color.END)\n",
    "print(color.BOLD +\".........................\"+ str(\"%.1f\" % fatPercent)+\"%\"+ color.END)\n",
    "if fat==0:\n",
    "    print(\"  \"+\"Saturated Fat \"+\"0\"+\"g\")\n",
    "    print(\"  \"+\"Trans Fat \"+\"0\"+\"g\")\n",
    "else:\n",
    "    satFat=random.randrange(0,fat)\n",
    "    print(\"  \"+\"Saturated Fat \"+str(satFat)+\"g\")\n",
    "    print(\"  \"+\"Trans Fat \"+str(fat-satFat-random.randrange(0,fat-satFat))+\"g\")\n",
    "    \n",
    "print(color.BOLD+color.UNDERLINE +\"Cholesterol \"+ color.END+color.UNDERLINE + str(cholesterol)+\"mg\"+ color.END)\n",
    "print(color.BOLD +\".........................\"+ str(\"%.1f\" % cholesterolPercent)+\"%\"+ color.END)\n",
    "\n",
    "print(color.BOLD+color.UNDERLINE +\"Sodium \"+ color.END+color.UNDERLINE + str(sodium)+\"mg\"+ color.END)\n",
    "print(color.BOLD +\".........................\"+ str(\"%.1f\" % sodiumPercent)+\"%\"+ color.END)\n",
    "\n",
    "print(color.BOLD+color.UNDERLINE +\"Total Carbohydrate \"+ color.END+color.UNDERLINE + str(carbohydrate) +\"g\"+ color.END)\n",
    "print(color.BOLD +\".........................\"+ str(\"%.1f\" % carbohydratePercent)+\"%\"+ color.END)\n",
    "if carbohydrate==0:\n",
    "    print(\"  \"+\"Dietary Fiber \"+\"0\"+\"g\")\n",
    "    print(\"  \"+\"Total Sugars \"+\"0\"+\"g\")\n",
    "else:\n",
    "    fib=random.randrange(0,carbohydrate)\n",
    "    print(\"  \"+\"Dietary Fiber \"+str(fib)+\"g\")\n",
    "    ts=carbohydrate-fib-random.randrange(0,carbohydrate-fib)\n",
    "    print(\"  \"+\"Total Sugars \"+str(ts)+\"g\")\n",
    "    print(\"    \"+\"Inlcudes \"+str(random.randrange(0,ts))+\"g Added Surgars\")\n",
    "    \n",
    "print(color.BOLD+color.UNDERLINE +\"Total Protein \"+ color.END+color.UNDERLINE+ str(protein)+\"g\"+ color.END)\n",
    "print(color.BOLD +\".........................\"+ str(\"%.1f\" % proteinPercent)+\"%\"+ color.END)\n",
    "\n"
   ]
  }
 ],
 "metadata": {
  "kernelspec": {
   "display_name": "Python 3",
   "language": "python",
   "name": "python3"
  },
  "language_info": {
   "codemirror_mode": {
    "name": "ipython",
    "version": 3
   },
   "file_extension": ".py",
   "mimetype": "text/x-python",
   "name": "python",
   "nbconvert_exporter": "python",
   "pygments_lexer": "ipython3",
   "version": "3.8.3"
  }
 },
 "nbformat": 4,
 "nbformat_minor": 4
}
